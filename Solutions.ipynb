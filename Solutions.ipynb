{
  "cells": [
    {
      "metadata": {
        "trusted": false
      },
      "cell_type": "code",
      "source": "def Gauss(number):\n    n = int(number)\n    total_sum = (n * (n+1))/2\n    return total_sum\nGauss(6)\n    ",
      "execution_count": 1,
      "outputs": [
        {
          "data": {
            "text/plain": "21.0"
          },
          "execution_count": 1,
          "metadata": {},
          "output_type": "execute_result"
        }
      ]
    },
    {
      "metadata": {
        "trusted": false
      },
      "cell_type": "code",
      "source": "Gauss(100)",
      "execution_count": 2,
      "outputs": [
        {
          "data": {
            "text/plain": "5050.0"
          },
          "execution_count": 2,
          "metadata": {},
          "output_type": "execute_result"
        }
      ]
    },
    {
      "metadata": {
        "trusted": false
      },
      "cell_type": "code",
      "source": "def StringReverse(word):\n    new_string = \"\"\n    for index, _ in enumerate(word):\n        new_string += word[len(word) - 1 - index]\n    return new_string\nStringReverse(\"Howard University\")",
      "execution_count": 6,
      "outputs": [
        {
          "data": {
            "text/plain": "'ytisrevinU drawoH'"
          },
          "execution_count": 6,
          "metadata": {},
          "output_type": "execute_result"
        }
      ]
    },
    {
      "metadata": {
        "trusted": true
      },
      "cell_type": "code",
      "source": "def UpperLower():\n    orig_word = input(\"Input your word:\\n\")\n    case = input(\"Is your word uppercase or lowercase?\\n\")\n    new_word = \"\"\n    if case == \"uppercase\":\n        for index, char in enumerate(orig_word):\n            new_ord = ord(char) + 32\n            new_word += chr(new_ord)\n        return new_word\n    elif case == \"lowercase\":\n        for index, char in enumerate(orig_word):\n            new_ord = ord(char) - 32\n            new_word += chr(new_ord)\n        return new_word\n    else:\n        print(\"I dont know what kind of case that is!\")\nUpperLower()",
      "execution_count": 1,
      "outputs": [
        {
          "output_type": "stream",
          "name": "stdout",
          "text": "Input your word:\nbison\nIs your word uppercase or lowercase?\nlowercase\n"
        },
        {
          "output_type": "execute_result",
          "execution_count": 1,
          "data": {
            "text/plain": "'BISON'"
          },
          "metadata": {}
        }
      ]
    },
    {
      "metadata": {
        "trusted": false
      },
      "cell_type": "code",
      "source": "",
      "execution_count": null,
      "outputs": []
    }
  ],
  "metadata": {
    "kernelspec": {
      "name": "python36",
      "display_name": "Python 3.6",
      "language": "python"
    },
    "language_info": {
      "mimetype": "text/x-python",
      "nbconvert_exporter": "python",
      "name": "python",
      "pygments_lexer": "ipython3",
      "version": "3.6.6",
      "file_extension": ".py",
      "codemirror_mode": {
        "version": 3,
        "name": "ipython"
      }
    }
  },
  "nbformat": 4,
  "nbformat_minor": 2
}