{
 "cells": [
  {
   "cell_type": "code",
   "execution_count": 1,
   "metadata": {},
   "outputs": [
    {
     "data": {
      "text/plain": [
       "21.0"
      ]
     },
     "execution_count": 1,
     "metadata": {},
     "output_type": "execute_result"
    }
   ],
   "source": [
    "def Gauss(number):\n",
    "    n = int(number)\n",
    "    total_sum = (n * (n+1))/2\n",
    "    return total_sum\n",
    "Gauss(6)\n",
    "    "
   ]
  },
  {
   "cell_type": "code",
   "execution_count": 2,
   "metadata": {},
   "outputs": [
    {
     "data": {
      "text/plain": [
       "5050.0"
      ]
     },
     "execution_count": 2,
     "metadata": {},
     "output_type": "execute_result"
    }
   ],
   "source": [
    "Gauss(100)"
   ]
  },
  {
   "cell_type": "code",
   "execution_count": 6,
   "metadata": {},
   "outputs": [
    {
     "data": {
      "text/plain": [
       "'ytisrevinU drawoH'"
      ]
     },
     "execution_count": 6,
     "metadata": {},
     "output_type": "execute_result"
    }
   ],
   "source": [
    "def StringReverse(word):\n",
    "    new_string = \"\"\n",
    "    for index, _ in enumerate(word):\n",
    "        new_string += word[len(word) - 1 - index]\n",
    "    return new_string\n",
    "StringReverse(\"Howard University\")"
   ]
  },
  {
   "cell_type": "code",
   "execution_count": 1,
   "metadata": {},
   "outputs": [
    {
     "name": "stdout",
     "output_type": "stream",
     "text": [
      "Input your word:\n",
      "bison\n",
      "Is your word uppercase or lowercase?\n",
      "lowercase\n"
     ]
    },
    {
     "data": {
      "text/plain": [
       "'BISON'"
      ]
     },
     "execution_count": 1,
     "metadata": {},
     "output_type": "execute_result"
    }
   ],
   "source": [
    "def UpperLower():\n",
    "    orig_word = input(\"Input your word:\\n\")\n",
    "    case = input(\"Is your word uppercase or lowercase?\\n\")\n",
    "    new_word = \"\"\n",
    "    if case == \"uppercase\":\n",
    "        for index, char in enumerate(orig_word):\n",
    "            new_ord = ord(char) + 32\n",
    "            new_word += chr(new_ord)\n",
    "        return new_word\n",
    "    elif case == \"lowercase\":\n",
    "        for index, char in enumerate(orig_word):\n",
    "            new_ord = ord(char) - 32\n",
    "            new_word += chr(new_ord)\n",
    "        return new_word\n",
    "    else:\n",
    "        print(\"I dont know what kind of case that is!\")\n",
    "UpperLower()"
   ]
  },
  {
   "cell_type": "code",
   "execution_count": 3,
   "metadata": {},
   "outputs": [
    {
     "name": "stdout",
     "output_type": "stream",
     "text": [
      "[1, 2, 3, 4, 5, 6, 10, 12, 15, 20, 25, 30, 50, 60, 75, 100, 150, 300]\n"
     ]
    }
   ],
   "source": [
    "def Factorer(integer):\n",
    "    arr_factors = []\n",
    "    number = 1\n",
    "    while number <= integer:\n",
    "        if integer % number == 0:\n",
    "            arr_factors.append(number)\n",
    "        number = number + 1\n",
    "    print(arr_factors)\n",
    "Factorer(300)"
   ]
  },
  {
   "cell_type": "code",
   "execution_count": 6,
   "metadata": {},
   "outputs": [
    {
     "data": {
      "text/plain": [
       "{'s': 2, 'a': 2, 'n': 1, 'd': 1, 'l': 1}"
      ]
     },
     "execution_count": 6,
     "metadata": {},
     "output_type": "execute_result"
    }
   ],
   "source": [
    "def TimesInString(string):\n",
    "    letters = {}\n",
    "    for char in string: \n",
    "        if char in letters:\n",
    "            letters[char] += 1\n",
    "        else:\n",
    "            letters[char] = 1\n",
    "    return letters\n",
    "TimesInString('sandals')"
   ]
  },
  {
   "cell_type": "code",
   "execution_count": 7,
   "metadata": {},
   "outputs": [
    {
     "data": {
      "text/plain": [
       "'r'"
      ]
     },
     "execution_count": 7,
     "metadata": {},
     "output_type": "execute_result"
    }
   ],
   "source": [
    "def FirstUnique(string):\n",
    "    letters = {}\n",
    "    for char in string: \n",
    "        if char in letters:\n",
    "            letters[char] += 1\n",
    "        else:\n",
    "            letters[char] = 1\n",
    "    for index, char in enumerate(string):\n",
    "        if letters[char] == 1:\n",
    "            return char\n",
    "            break\n",
    "FirstUnique(\"hoorah!\")"
   ]
  },
  {
   "cell_type": "code",
   "execution_count": 8,
   "metadata": {},
   "outputs": [
    {
     "data": {
      "text/plain": [
       "3"
      ]
     },
     "execution_count": 8,
     "metadata": {},
     "output_type": "execute_result"
    }
   ],
   "source": [
    "def TotalDances(n):\n",
    "    total = 0\n",
    "    for i in range(1,n):\n",
    "        total += i\n",
    "    return total\n",
    "TotalDances(3)"
   ]
  },
  {
   "cell_type": "code",
   "execution_count": null,
   "metadata": {},
   "outputs": [],
   "source": []
  }
 ],
 "metadata": {
  "kernelspec": {
   "display_name": "Python 3",
   "language": "python",
   "name": "python3"
  },
  "language_info": {
   "codemirror_mode": {
    "name": "ipython",
    "version": 3
   },
   "file_extension": ".py",
   "mimetype": "text/x-python",
   "name": "python",
   "nbconvert_exporter": "python",
   "pygments_lexer": "ipython3",
   "version": "3.6.5"
  }
 },
 "nbformat": 4,
 "nbformat_minor": 2
}
