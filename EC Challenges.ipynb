{
  "cells": [
    {
      "metadata": {},
      "cell_type": "markdown",
      "source": "Write a function that takes in a natural number, n , and outputs the sum all natural numbers up to and including n.\n\ni.e. 1 + 2 + 3 ... + n-1 + 1\n\n\ne.g. \n\ninput: 6\n\noutput: 21\n"
    },
    {
      "metadata": {
        "trusted": false
      },
      "cell_type": "code",
      "source": "",
      "execution_count": null,
      "outputs": []
    },
    {
      "metadata": {},
      "cell_type": "markdown",
      "source": "Write a function that takes in a string and returns a string that is the reverse of the input string.\n\ne.g.\n\ninput: Howard University\n\noutput: ytisrevinU drawoH"
    },
    {
      "metadata": {
        "trusted": false
      },
      "cell_type": "code",
      "source": "",
      "execution_count": null,
      "outputs": []
    },
    {
      "metadata": {},
      "cell_type": "markdown",
      "source": "Write a function that asks the user to input a word, and then asks the user whether the letters in the word are uppercase or lowercase (For now, assume all input words will be made of either all upper or lowercase characters). The function should return the word converted to all uppercase if it was originally lowercase and vice versa. \n\nDO NOT use .upper and .lower\n\ne.g.\n\nInput your word:\n\nbison\n\nIs your word uppercase or lowercase?\n\nlowercase\n\n'BISON'\n"
    }
  ],
  "metadata": {
    "kernelspec": {
      "name": "python36",
      "display_name": "Python 3.6",
      "language": "python"
    },
    "language_info": {
      "mimetype": "text/x-python",
      "nbconvert_exporter": "python",
      "name": "python",
      "pygments_lexer": "ipython3",
      "version": "3.6.6",
      "file_extension": ".py",
      "codemirror_mode": {
        "version": 3,
        "name": "ipython"
      }
    }
  },
  "nbformat": 4,
  "nbformat_minor": 2
}