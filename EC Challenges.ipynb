{
 "cells": [
  {
   "cell_type": "markdown",
   "metadata": {},
   "source": [
    "Write a function that takes in a natural number, n , and outputs the sum all natural numbers up to and including n.\n",
    "\n",
    "i.e. 1 + 2 + 3 ... + n-1 + 1\n",
    "\n",
    "\n",
    "e.g. \n",
    "\n",
    "input: 6\n",
    "\n",
    "output: 21\n"
   ]
  },
  {
   "cell_type": "code",
   "execution_count": null,
   "metadata": {},
   "outputs": [],
   "source": []
  },
  {
   "cell_type": "markdown",
   "metadata": {},
   "source": [
    "Write a function that takes in a string and returns a string that is the reverse of the input string.\n",
    "\n",
    "e.g.\n",
    "\n",
    "input: Howard University\n",
    "\n",
    "output: ytisrevinU drawoH"
   ]
  },
  {
   "cell_type": "code",
   "execution_count": null,
   "metadata": {},
   "outputs": [],
   "source": []
  },
  {
   "cell_type": "markdown",
   "metadata": {},
   "source": [
    "Write a function that asks the user to input a word, and then asks the user whether the letters in the word are uppercase or lowercase (For now, assume all input words will be made of either all upper or lowercase characters). The function should return the word converted to all uppercase if it was originally lowercase and vice versa. \n",
    "\n",
    "DO NOT use .upper and .lower\n",
    "\n",
    "e.g.\n",
    "\n",
    "Input your word:\n",
    "\n",
    "bison\n",
    "\n",
    "Is your word uppercase or lowercase?\n",
    "\n",
    "lowercase\n",
    "\n",
    "'BISON'\n"
   ]
  },
  {
   "cell_type": "code",
   "execution_count": null,
   "metadata": {},
   "outputs": [],
   "source": []
  },
  {
   "cell_type": "markdown",
   "metadata": {},
   "source": [
    "Write a function that takes a number as an argument and produces a list of all the factors of the number. \n",
    "\n",
    "e.g. \n",
    "\n",
    "Input: 300\n",
    "\n",
    "Output: 1, 2, 3, 4, 5, 6, 10, 12, 15, 20, 25, 30, 50, 60, 75, 100, 150, 300"
   ]
  },
  {
   "cell_type": "code",
   "execution_count": null,
   "metadata": {},
   "outputs": [],
   "source": []
  },
  {
   "cell_type": "markdown",
   "metadata": {},
   "source": [
    "Write a function that takes a string as an argument and returns the number of times each character occurs in the string.\n",
    "\n",
    "e.g.\n",
    "\n",
    "input: \"sandals\"\n",
    "\n",
    "output: 's': 2, 'a': 2, 'n': 1, 'd': 1, 'l': 1"
   ]
  },
  {
   "cell_type": "code",
   "execution_count": null,
   "metadata": {},
   "outputs": [],
   "source": []
  },
  {
   "cell_type": "markdown",
   "metadata": {},
   "source": [
    "Write a function that takes a string as an argument and returns the first unique character in the string.\n",
    "\n",
    "e.g.\n",
    "\n",
    "input: \"hoorah!\"\n",
    "\n",
    "output: \"r\""
   ]
  },
  {
   "cell_type": "code",
   "execution_count": null,
   "metadata": {},
   "outputs": [],
   "source": []
  },
  {
   "cell_type": "markdown",
   "metadata": {},
   "source": [
    "We are documenting student participation at Prom. \n",
    "\n",
    "Given that students will only dance in pairs, and every student will take the chance to dance with all other students, we want to know how many dances will take place.\n",
    "\n",
    "Write a function that takes an integer representing the number of students in attendance as an argument and returns the number of pair dances that take place. \n",
    "\n",
    "e.g.\n",
    "\n",
    "input: 3\n",
    "\n",
    "output: 3\n"
   ]
  },
  {
   "cell_type": "code",
   "execution_count": null,
   "metadata": {},
   "outputs": [],
   "source": []
  }
 ],
 "metadata": {
  "kernelspec": {
   "display_name": "Python 3",
   "language": "python",
   "name": "python3"
  },
  "language_info": {
   "codemirror_mode": {
    "name": "ipython",
    "version": 3
   },
   "file_extension": ".py",
   "mimetype": "text/x-python",
   "name": "python",
   "nbconvert_exporter": "python",
   "pygments_lexer": "ipython3",
   "version": "3.6.5"
  }
 },
 "nbformat": 4,
 "nbformat_minor": 2
}
